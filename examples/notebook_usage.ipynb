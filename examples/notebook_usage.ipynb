{
 "cells": [
  {
   "cell_type": "markdown",
   "metadata": {},
   "source": [
    "# DuckQL Notebook Usage\n",
    "\n",
    "This notebook demonstrates how to use DuckQL for data analysis with DuckDB and GraphQL."
   ]
  },
  {
   "cell_type": "code",
   "execution_count": null,
   "metadata": {},
   "outputs": [],
   "source": [
    "# Setup\n",
    "import duckdb\n",
    "import pandas as pd\n",
    "import asyncio\n",
    "import nest_asyncio\n",
    "from duckql import DuckQL\n",
    "\n",
    "# Enable async in notebooks\n",
    "nest_asyncio.apply()"
   ]
  },
  {
   "cell_type": "markdown",
   "metadata": {},
   "source": [
    "## 1. Create Sample Database"
   ]
  },
  {
   "cell_type": "code",
   "execution_count": null,
   "metadata": {},
   "outputs": [],
   "source": [
    "# Create an in-memory database with sample data\n",
    "conn = duckdb.connect(\":memory:\")\n",
    "\n",
    "# Sales data\n",
    "conn.execute(\"\"\"\n",
    "    CREATE TABLE sales AS \n",
    "    SELECT \n",
    "        DATE '2024-01-01' + INTERVAL (i % 30) DAY as date,\n",
    "        CASE (i % 3) \n",
    "            WHEN 0 THEN 'Widget'\n",
    "            WHEN 1 THEN 'Gadget' \n",
    "            ELSE 'Gizmo'\n",
    "        END as product,\n",
    "        CASE (i % 5)\n",
    "            WHEN 0 THEN 'North'\n",
    "            WHEN 1 THEN 'South'\n",
    "            WHEN 2 THEN 'East'\n",
    "            WHEN 3 THEN 'West'\n",
    "            ELSE 'Central'\n",
    "        END as region,\n",
    "        ROUND(100 + RANDOM() * 900, 2) as amount,\n",
    "        ROUND(1 + RANDOM() * 50) as quantity\n",
    "    FROM generate_series(1, 1000) as t(i)\n",
    "\"\"\")\n",
    "\n",
    "# Customer data with JSON\n",
    "conn.execute(\"\"\"\n",
    "    CREATE TABLE customers (\n",
    "        id INTEGER PRIMARY KEY,\n",
    "        name VARCHAR,\n",
    "        email VARCHAR,\n",
    "        metadata JSON,\n",
    "        tags VARCHAR[],\n",
    "        created_at TIMESTAMP\n",
    "    )\n",
    "\"\"\")\n",
    "\n",
    "conn.execute(\"\"\"\n",
    "    INSERT INTO customers VALUES\n",
    "    (1, 'Alice Johnson', 'alice@example.com', \n",
    "     '{\"tier\": \"gold\", \"preferences\": {\"notifications\": true}}',\n",
    "     ['vip', 'early-adopter'], '2024-01-15 10:00:00'),\n",
    "    (2, 'Bob Smith', 'bob@example.com',\n",
    "     '{\"tier\": \"silver\", \"preferences\": {\"notifications\": false}}',\n",
    "     ['regular'], '2024-01-20 14:30:00'),\n",
    "    (3, 'Carol White', 'carol@example.com',\n",
    "     '{\"tier\": \"platinum\", \"preferences\": {\"notifications\": true, \"newsletter\": true}}',\n",
    "     ['vip', 'beta-tester', 'frequent-buyer'], '2024-01-10 09:15:00')\n",
    "\"\"\")\n",
    "\n",
    "print(\"Database created with sample data!\")"
   ]
  },
  {
   "cell_type": "markdown",
   "metadata": {},
   "source": [
    "## 2. Initialize DuckQL"
   ]
  },
  {
   "cell_type": "code",
   "execution_count": null,
   "metadata": {},
   "outputs": [],
   "source": [
    "# Create DuckQL instance\n",
    "duckql = DuckQL(conn)\n",
    "\n",
    "# Helper function for running queries in notebook\n",
    "async def query(graphql_query: str, variables=None):\n",
    "    \"\"\"Execute a GraphQL query and return the data.\"\"\"\n",
    "    schema = duckql.get_schema()\n",
    "    result = await schema.execute(graphql_query, variable_values=variables)\n",
    "    \n",
    "    if result.errors:\n",
    "        print(\"Errors:\", result.errors)\n",
    "        return None\n",
    "    \n",
    "    return result.data\n",
    "\n",
    "# Sync wrapper for easier notebook use\n",
    "def run_query(graphql_query: str, variables=None):\n",
    "    \"\"\"Synchronous query execution for notebooks.\"\"\"\n",
    "    return asyncio.run(query(graphql_query, variables))"
   ]
  },
  {
   "cell_type": "markdown",
   "metadata": {},
   "source": [
    "## 3. Explore Schema with GraphQL"
   ]
  },
  {
   "cell_type": "code",
   "execution_count": null,
   "metadata": {},
   "outputs": [],
   "source": [
    "# Get all sales data\n",
    "data = run_query(\"\"\"\n",
    "    query {\n",
    "        sales(limit: 5, orderBy: { date: DESC }) {\n",
    "            date\n",
    "            product\n",
    "            region\n",
    "            amount\n",
    "            quantity\n",
    "        }\n",
    "    }\n",
    "\"\"\")\n",
    "\n",
    "# Convert to DataFrame\n",
    "df = pd.DataFrame(data['sales'])\n",
    "df"
   ]
  },
  {
   "cell_type": "markdown",
   "metadata": {},
   "source": [
    "## 4. Filter and Analyze Data"
   ]
  },
  {
   "cell_type": "code",
   "execution_count": null,
   "metadata": {},
   "outputs": [],
   "source": [
    "# Query with filters\n",
    "data = run_query(\"\"\"\n",
    "    query {\n",
    "        sales(\n",
    "            where: {\n",
    "                _and: [\n",
    "                    { product: { eq: \"Widget\" } }\n",
    "                    { amount: { gte: 500 } }\n",
    "                    { region: { in: [\"North\", \"South\"] } }\n",
    "                ]\n",
    "            }\n",
    "            orderBy: { amount: DESC }\n",
    "            limit: 10\n",
    "        ) {\n",
    "            date\n",
    "            region\n",
    "            amount\n",
    "            quantity\n",
    "        }\n",
    "    }\n",
    "\"\"\")\n",
    "\n",
    "df_filtered = pd.DataFrame(data['sales'])\n",
    "print(f\"Found {len(df_filtered)} high-value Widget sales in North/South regions\")\n",
    "df_filtered"
   ]
  },
  {
   "cell_type": "markdown",
   "metadata": {},
   "source": [
    "## 5. Work with JSON and Arrays"
   ]
  },
  {
   "cell_type": "code",
   "execution_count": null,
   "metadata": {},
   "outputs": [],
   "source": [
    "# Query customers with JSON metadata\n",
    "data = run_query(\"\"\"\n",
    "    query {\n",
    "        customers {\n",
    "            name\n",
    "            email\n",
    "            metadata\n",
    "            tags\n",
    "            created_at\n",
    "        }\n",
    "    }\n",
    "\"\"\")\n",
    "\n",
    "customers_df = pd.DataFrame(data['customers'])\n",
    "\n",
    "# Extract tier from JSON metadata\n",
    "customers_df['tier'] = customers_df['metadata'].apply(lambda x: x['tier'])\n",
    "customers_df['notifications'] = customers_df['metadata'].apply(\n",
    "    lambda x: x['preferences'].get('notifications', False)\n",
    ")\n",
    "\n",
    "customers_df[['name', 'tier', 'notifications', 'tags']]"
   ]
  },
  {
   "cell_type": "markdown",
   "metadata": {},
   "source": [
    "## 6. Add Computed Fields"
   ]
  },
  {
   "cell_type": "code",
   "execution_count": null,
   "metadata": {},
   "outputs": [],
   "source": [
    "# Add computed field to calculate total value\n",
    "@duckql.computed_field(\"sales\", \"total_value\")\n",
    "def total_value(obj) -> float:\n",
    "    return round(obj['amount'] * obj['quantity'], 2)\n",
    "\n",
    "# Query with computed field\n",
    "data = run_query(\"\"\"\n",
    "    query {\n",
    "        sales(limit: 5) {\n",
    "            product\n",
    "            amount\n",
    "            quantity\n",
    "            total_value\n",
    "        }\n",
    "    }\n",
    "\"\"\")\n",
    "\n",
    "pd.DataFrame(data['sales'])"
   ]
  },
  {
   "cell_type": "markdown",
   "metadata": {},
   "source": [
    "## 7. Custom Analytics Queries"
   ]
  },
  {
   "cell_type": "code",
   "execution_count": null,
   "metadata": {},
   "outputs": [],
   "source": [
    "# Add custom resolver for analytics\n",
    "@duckql.resolver(\"salesAnalytics\")\n",
    "async def sales_analytics(root, info, start_date: str, end_date: str) -> dict:\n",
    "    sql = \"\"\"\n",
    "        SELECT \n",
    "            product,\n",
    "            region,\n",
    "            COUNT(*) as transactions,\n",
    "            SUM(amount) as total_amount,\n",
    "            AVG(amount) as avg_amount,\n",
    "            SUM(quantity) as total_quantity\n",
    "        FROM sales\n",
    "        WHERE date BETWEEN $1 AND $2\n",
    "        GROUP BY product, region\n",
    "        ORDER BY total_amount DESC\n",
    "    \"\"\"\n",
    "    result = await duckql.executor.execute_query(\n",
    "        sql, {\"p0\": start_date, \"p1\": end_date}\n",
    "    )\n",
    "    return {\"analytics\": result.rows}\n",
    "\n",
    "# Use the custom resolver\n",
    "data = run_query(\"\"\"\n",
    "    query {\n",
    "        salesAnalytics(start_date: \"2024-01-01\", end_date: \"2024-01-31\") {\n",
    "            analytics {\n",
    "                product\n",
    "                region\n",
    "                transactions\n",
    "                total_amount\n",
    "                avg_amount\n",
    "                total_quantity\n",
    "            }\n",
    "        }\n",
    "    }\n",
    "\"\"\")\n",
    "\n",
    "analytics_df = pd.DataFrame(data['salesAnalytics']['analytics'])\n",
    "analytics_df.head(10)"
   ]
  },
  {
   "cell_type": "markdown",
   "metadata": {},
   "source": [
    "## 8. Visualization"
   ]
  },
  {
   "cell_type": "code",
   "execution_count": null,
   "metadata": {},
   "outputs": [],
   "source": [
    "# Prepare data for visualization\n",
    "pivot = analytics_df.pivot(index='product', columns='region', values='total_amount')\n",
    "\n",
    "# Create visualization\n",
    "import matplotlib.pyplot as plt\n",
    "\n",
    "fig, (ax1, ax2) = plt.subplots(1, 2, figsize=(15, 5))\n",
    "\n",
    "# Bar chart by region\n",
    "pivot.plot(kind='bar', ax=ax1)\n",
    "ax1.set_title('Sales by Product and Region')\n",
    "ax1.set_xlabel('Product')\n",
    "ax1.set_ylabel('Total Sales')\n",
    "\n",
    "# Pie chart of total sales by product\n",
    "product_totals = analytics_df.groupby('product')['total_amount'].sum()\n",
    "product_totals.plot(kind='pie', ax=ax2, autopct='%1.1f%%')\n",
    "ax2.set_title('Total Sales Distribution by Product')\n",
    "ax2.set_ylabel('')\n",
    "\n",
    "plt.tight_layout()\n",
    "plt.show()"
   ]
  },
  {
   "cell_type": "markdown",
   "metadata": {},
   "source": [
    "## 9. Advanced: Parameterized Queries"
   ]
  },
  {
   "cell_type": "code",
   "execution_count": null,
   "metadata": {},
   "outputs": [],
   "source": [
    "# Define a parameterized query\n",
    "SALES_BY_DATE_RANGE = \"\"\"\n",
    "    query SalesByDateRange($startDate: String!, $endDate: String!, $minAmount: Float) {\n",
    "        sales(\n",
    "            where: {\n",
    "                _and: [\n",
    "                    { date: { gte: $startDate } }\n",
    "                    { date: { lte: $endDate } }\n",
    "                    { amount: { gte: $minAmount } }\n",
    "                ]\n",
    "            }\n",
    "            orderBy: { date: ASC }\n",
    "        ) {\n",
    "            date\n",
    "            product\n",
    "            amount\n",
    "        }\n",
    "    }\n",
    "\"\"\"\n",
    "\n",
    "# Execute with variables\n",
    "data = run_query(SALES_BY_DATE_RANGE, {\n",
    "    \"startDate\": \"2024-01-15\",\n",
    "    \"endDate\": \"2024-01-20\",\n",
    "    \"minAmount\": 700\n",
    "})\n",
    "\n",
    "df_range = pd.DataFrame(data['sales'])\n",
    "print(f\"Found {len(df_range)} high-value sales in date range\")\n",
    "df_range.groupby('product')['amount'].agg(['count', 'sum', 'mean'])"
   ]
  },
  {
   "cell_type": "markdown",
   "metadata": {},
   "source": [
    "## 10. Export Results"
   ]
  },
  {
   "cell_type": "code",
   "execution_count": null,
   "metadata": {},
   "outputs": [],
   "source": [
    "# You can easily export results to various formats\n",
    "\n",
    "# To CSV\n",
    "analytics_df.to_csv('sales_analytics.csv', index=False)\n",
    "\n",
    "# To Excel with multiple sheets\n",
    "with pd.ExcelWriter('analysis_results.xlsx') as writer:\n",
    "    analytics_df.to_excel(writer, sheet_name='Analytics', index=False)\n",
    "    df_filtered.to_excel(writer, sheet_name='Filtered Sales', index=False)\n",
    "    customers_df.to_excel(writer, sheet_name='Customers', index=False)\n",
    "\n",
    "# Or back to DuckDB for further analysis\n",
    "conn.execute(\"CREATE TABLE analytics_results AS SELECT * FROM analytics_df\")\n",
    "\n",
    "print(\"Results exported successfully!\")"
   ]
  }
 ],
 "metadata": {
  "kernelspec": {
   "display_name": "Python 3",
   "language": "python",
   "name": "python3"
  },
  "language_info": {
   "codemirror_mode": {
    "name": "ipython",
    "version": 3
   },
   "file_extension": ".py",
   "mimetype": "text/x-python",
   "name": "python",
   "nbconvert_exporter": "python",
   "pygments_lexer": "ipython3",
   "version": "3.8.0"
  }
 },
 "nbformat": 4,
 "nbformat_minor": 4
}